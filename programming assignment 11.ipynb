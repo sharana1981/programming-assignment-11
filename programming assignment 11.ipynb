{
 "cells": [
  {
   "cell_type": "markdown",
   "id": "49c4589a",
   "metadata": {},
   "source": [
    "# programming assignment 11"
   ]
  },
  {
   "cell_type": "raw",
   "id": "4e830357",
   "metadata": {},
   "source": [
    "1)Write a Python program to find words which are greater than given length k?"
   ]
  },
  {
   "cell_type": "code",
   "execution_count": 3,
   "id": "34ce256e",
   "metadata": {},
   "outputs": [
    {
     "name": "stdout",
     "output_type": "stream",
     "text": [
      "enter the length: 3\n",
      "enter the number of words: 4\n",
      "enter the word:samy\n",
      "enter the word:sharan\n",
      "enter the word:yogi\n",
      "enter the word:ki\n",
      "samy\n",
      "sharan\n",
      "yogi\n"
     ]
    }
   ],
   "source": [
    "k=int(input(\"enter the length: \"))\n",
    "n=int(input(\"enter the number of words: \"))\n",
    "l=[]\n",
    "for i in range(0,n):\n",
    "    s=input(\"enter the word:\")\n",
    "    l.append(s)\n",
    "for i in l:\n",
    "    if len(i)>k:\n",
    "        print(i)"
   ]
  },
  {
   "cell_type": "raw",
   "id": "5a877969",
   "metadata": {},
   "source": [
    "2) Write a Python program for removing i-th character from a string?"
   ]
  },
  {
   "cell_type": "code",
   "execution_count": 6,
   "id": "5537ce81",
   "metadata": {},
   "outputs": [
    {
     "name": "stdout",
     "output_type": "stream",
     "text": [
      "enter the wordsharana\n",
      "enter the index value you want to remove7\n",
      "sharan\n"
     ]
    }
   ],
   "source": [
    "s=input(\"enter the word\")\n",
    "n=int(input(\"enter the index value you want to remove\"))\n",
    "st=\"\"\n",
    "for i in range(0,len(s)):\n",
    "    if i==n-1:\n",
    "        pass\n",
    "    else:\n",
    "        st+=s[i]\n",
    "print(st)"
   ]
  },
  {
   "cell_type": "raw",
   "id": "ece29981",
   "metadata": {},
   "source": [
    "3) Write a Python program to split and join a string?"
   ]
  },
  {
   "cell_type": "code",
   "execution_count": 13,
   "id": "fa2baae6",
   "metadata": {},
   "outputs": [
    {
     "name": "stdout",
     "output_type": "stream",
     "text": [
      "enter the stringsharana is a good cricketer\n",
      "['sharana', 'is', 'a', 'good', 'cricketer']\n",
      "s h a r a n a   i s   a   g o o d   c r i c k e t e r\n"
     ]
    }
   ],
   "source": [
    "s=input(\"enter the string:\")\n",
    "l=s\n",
    "print(s.split())\n",
    "k=\" \".join(l)\n",
    "print(k)"
   ]
  },
  {
   "cell_type": "raw",
   "id": "2738f5f1",
   "metadata": {},
   "source": [
    "4)Write a Python to check if a given string is binary string or not?"
   ]
  },
  {
   "cell_type": "code",
   "execution_count": 34,
   "id": "7aeef509",
   "metadata": {},
   "outputs": [
    {
     "name": "stdout",
     "output_type": "stream",
     "text": [
      "enter the string: 0101h\n",
      "not binary\n"
     ]
    }
   ],
   "source": [
    "s=input(\"enter the string: \")\n",
    "count=0\n",
    "for i in range(0,len(s)):\n",
    "    if s[i] in [\"1\",'0']:\n",
    "        count=0\n",
    "        \n",
    "    else:\n",
    "        count+=1\n",
    "        break\n",
    "        \n",
    "if count==1:\n",
    "    print(\"not binary\")\n",
    "else:\n",
    "    print(\"binary\")"
   ]
  },
  {
   "cell_type": "raw",
   "id": "95536242",
   "metadata": {},
   "source": [
    "5)Write a Python program to find uncommon words from two Strings?"
   ]
  },
  {
   "cell_type": "code",
   "execution_count": 38,
   "id": "9f09982a",
   "metadata": {},
   "outputs": [
    {
     "name": "stdout",
     "output_type": "stream",
     "text": [
      "enter a string:samyuktha is a good learner\n",
      "enter a string:sharan is a good cricketer\n",
      "['samyuktha', 'learner', 'sharan', 'cricketer']\n"
     ]
    }
   ],
   "source": [
    "s1=input(\"enter a string:\")\n",
    "s2=input(\"enter a string:\")\n",
    "l1=s1.split(\" \")\n",
    "l2=s2.split(\" \")\n",
    "k=[]\n",
    "for i in l1:\n",
    "    if i not in l2:\n",
    "        k.append(i)\n",
    "for i in l2:\n",
    "    if i not in l1:\n",
    "        k.append(i)\n",
    "print(k)"
   ]
  },
  {
   "cell_type": "raw",
   "id": "cc01d419",
   "metadata": {},
   "source": [
    "6)Write a Python to find all duplicate characters in string?"
   ]
  },
  {
   "cell_type": "code",
   "execution_count": 42,
   "id": "aaf642df",
   "metadata": {},
   "outputs": [
    {
     "name": "stdout",
     "output_type": "stream",
     "text": [
      "enter a string:aaaagggsha\n",
      "['a', 'g']\n"
     ]
    }
   ],
   "source": [
    "s=input('enter a string:')\n",
    "l=[]\n",
    "for i in s:\n",
    "    k=s.count(i)\n",
    "    if k>1:\n",
    "        if i in l:\n",
    "            pass\n",
    "        else:\n",
    "            l.append(i)\n",
    "print(l)\n",
    "        "
   ]
  },
  {
   "cell_type": "raw",
   "id": "98463e55",
   "metadata": {},
   "source": [
    "7)Write a Python Program to check if a string contains any special character?"
   ]
  },
  {
   "cell_type": "code",
   "execution_count": 44,
   "id": "482f17da",
   "metadata": {},
   "outputs": [
    {
     "name": "stdout",
     "output_type": "stream",
     "text": [
      "enter a string:sharan\n",
      "does not contains special symbol\n"
     ]
    }
   ],
   "source": [
    "s=input('enter a string:')\n",
    "flag=0\n",
    "for i in s:\n",
    "    if not (\"A\"<=i<=\"Z\" or \"a\"<=i<=\"z\" or \"0\"<=i<=\"9\"):\n",
    "        flag=1\n",
    "if flag==1:\n",
    "    print(\"contains special symbol\")\n",
    "else:\n",
    "    print(\"does not contains special symbol\")\n",
    "    "
   ]
  },
  {
   "cell_type": "code",
   "execution_count": null,
   "id": "6e0fc57e",
   "metadata": {},
   "outputs": [],
   "source": []
  }
 ],
 "metadata": {
  "kernelspec": {
   "display_name": "Python 3 (ipykernel)",
   "language": "python",
   "name": "python3"
  },
  "language_info": {
   "codemirror_mode": {
    "name": "ipython",
    "version": 3
   },
   "file_extension": ".py",
   "mimetype": "text/x-python",
   "name": "python",
   "nbconvert_exporter": "python",
   "pygments_lexer": "ipython3",
   "version": "3.9.12"
  }
 },
 "nbformat": 4,
 "nbformat_minor": 5
}
